{
 "cells": [
  {
   "cell_type": "code",
   "execution_count": 10,
   "id": "35d057ff",
   "metadata": {},
   "outputs": [],
   "source": [
    "import warnings\n",
    "warnings.simplefilter(action='ignore', category=FutureWarning)"
   ]
  },
  {
   "cell_type": "code",
   "execution_count": 39,
   "id": "cf86b9b5",
   "metadata": {},
   "outputs": [],
   "source": [
    "# import required packages\n",
    "import pandas as pd\n",
    "import numpy as np\n",
    "\n",
    "# preprocess\n",
    "from sklearn.model_selection import train_test_split\n",
    "\n",
    "# plots\n",
    "import matplotlib.pyplot as plt\n",
    "import seaborn as sns\n",
    "sns.set_style(\"whitegrid\")"
   ]
  },
  {
   "cell_type": "code",
   "execution_count": 2,
   "id": "45558ec4",
   "metadata": {},
   "outputs": [
    {
     "name": "stdout",
     "output_type": "stream",
     "text": [
      "(12907, 1)\n"
     ]
    },
    {
     "data": {
      "text/html": [
       "<div>\n",
       "<style scoped>\n",
       "    .dataframe tbody tr th:only-of-type {\n",
       "        vertical-align: middle;\n",
       "    }\n",
       "\n",
       "    .dataframe tbody tr th {\n",
       "        vertical-align: top;\n",
       "    }\n",
       "\n",
       "    .dataframe thead th {\n",
       "        text-align: right;\n",
       "    }\n",
       "</style>\n",
       "<table border=\"1\" class=\"dataframe\">\n",
       "  <thead>\n",
       "    <tr style=\"text-align: right;\">\n",
       "      <th></th>\n",
       "      <th>headline</th>\n",
       "    </tr>\n",
       "  </thead>\n",
       "  <tbody>\n",
       "    <tr>\n",
       "      <th>0</th>\n",
       "      <td>Bill Changing Credit Card Rules Is Sent to Oba...</td>\n",
       "    </tr>\n",
       "    <tr>\n",
       "      <th>1</th>\n",
       "      <td>1700 runners still unaccounted for in UK's Lak...</td>\n",
       "    </tr>\n",
       "    <tr>\n",
       "      <th>2</th>\n",
       "      <td>Yankees Pitchers Trade Fielding Drills for Put...</td>\n",
       "    </tr>\n",
       "    <tr>\n",
       "      <th>3</th>\n",
       "      <td>Large earthquake rattles Indonesia; Seventh in...</td>\n",
       "    </tr>\n",
       "    <tr>\n",
       "      <th>4</th>\n",
       "      <td>Coldplay's new album hits stores worldwide thi...</td>\n",
       "    </tr>\n",
       "  </tbody>\n",
       "</table>\n",
       "</div>"
      ],
      "text/plain": [
       "                                            headline\n",
       "0  Bill Changing Credit Card Rules Is Sent to Oba...\n",
       "1  1700 runners still unaccounted for in UK's Lak...\n",
       "2  Yankees Pitchers Trade Fielding Drills for Put...\n",
       "3  Large earthquake rattles Indonesia; Seventh in...\n",
       "4  Coldplay's new album hits stores worldwide thi..."
      ]
     },
     "execution_count": 2,
     "metadata": {},
     "output_type": "execute_result"
    }
   ],
   "source": [
    "# load negative or not clickbait dataset into dataframe\n",
    "# no column present for class label\n",
    "df_0 = pd.read_csv('../data/non_clickbait_data', on_bad_lines='skip', header=None)\n",
    "\n",
    "# set column title\n",
    "df_0.columns = ['headline']\n",
    "\n",
    "# shape of dataset: (rows, columns)\n",
    "print(df_0.shape)\n",
    "\n",
    "# first 5 datapoints\n",
    "df_0.head()"
   ]
  },
  {
   "cell_type": "code",
   "execution_count": 3,
   "id": "a6e202e1",
   "metadata": {},
   "outputs": [
    {
     "data": {
      "text/html": [
       "<div>\n",
       "<style scoped>\n",
       "    .dataframe tbody tr th:only-of-type {\n",
       "        vertical-align: middle;\n",
       "    }\n",
       "\n",
       "    .dataframe tbody tr th {\n",
       "        vertical-align: top;\n",
       "    }\n",
       "\n",
       "    .dataframe thead th {\n",
       "        text-align: right;\n",
       "    }\n",
       "</style>\n",
       "<table border=\"1\" class=\"dataframe\">\n",
       "  <thead>\n",
       "    <tr style=\"text-align: right;\">\n",
       "      <th></th>\n",
       "      <th>headline</th>\n",
       "      <th>clickbait</th>\n",
       "    </tr>\n",
       "  </thead>\n",
       "  <tbody>\n",
       "    <tr>\n",
       "      <th>0</th>\n",
       "      <td>Bill Changing Credit Card Rules Is Sent to Oba...</td>\n",
       "      <td>0</td>\n",
       "    </tr>\n",
       "    <tr>\n",
       "      <th>1</th>\n",
       "      <td>1700 runners still unaccounted for in UK's Lak...</td>\n",
       "      <td>0</td>\n",
       "    </tr>\n",
       "    <tr>\n",
       "      <th>2</th>\n",
       "      <td>Yankees Pitchers Trade Fielding Drills for Put...</td>\n",
       "      <td>0</td>\n",
       "    </tr>\n",
       "    <tr>\n",
       "      <th>3</th>\n",
       "      <td>Large earthquake rattles Indonesia; Seventh in...</td>\n",
       "      <td>0</td>\n",
       "    </tr>\n",
       "    <tr>\n",
       "      <th>4</th>\n",
       "      <td>Coldplay's new album hits stores worldwide thi...</td>\n",
       "      <td>0</td>\n",
       "    </tr>\n",
       "  </tbody>\n",
       "</table>\n",
       "</div>"
      ],
      "text/plain": [
       "                                            headline  clickbait\n",
       "0  Bill Changing Credit Card Rules Is Sent to Oba...          0\n",
       "1  1700 runners still unaccounted for in UK's Lak...          0\n",
       "2  Yankees Pitchers Trade Fielding Drills for Put...          0\n",
       "3  Large earthquake rattles Indonesia; Seventh in...          0\n",
       "4  Coldplay's new album hits stores worldwide thi...          0"
      ]
     },
     "execution_count": 3,
     "metadata": {},
     "output_type": "execute_result"
    }
   ],
   "source": [
    "# add column for class label: not clickbait -> 0\n",
    "df_0['clickbait'] = pd.Series(np.zeros(df_0.shape[0], dtype=int))\n",
    "\n",
    "# first 5 datapoints with label\n",
    "df_0.head()"
   ]
  },
  {
   "cell_type": "code",
   "execution_count": 4,
   "id": "92fe6ab0",
   "metadata": {},
   "outputs": [
    {
     "name": "stdout",
     "output_type": "stream",
     "text": [
      "(15303, 1)\n"
     ]
    },
    {
     "data": {
      "text/html": [
       "<div>\n",
       "<style scoped>\n",
       "    .dataframe tbody tr th:only-of-type {\n",
       "        vertical-align: middle;\n",
       "    }\n",
       "\n",
       "    .dataframe tbody tr th {\n",
       "        vertical-align: top;\n",
       "    }\n",
       "\n",
       "    .dataframe thead th {\n",
       "        text-align: right;\n",
       "    }\n",
       "</style>\n",
       "<table border=\"1\" class=\"dataframe\">\n",
       "  <thead>\n",
       "    <tr style=\"text-align: right;\">\n",
       "      <th></th>\n",
       "      <th>headline</th>\n",
       "    </tr>\n",
       "  </thead>\n",
       "  <tbody>\n",
       "    <tr>\n",
       "      <th>0</th>\n",
       "      <td>Should I Get Bings</td>\n",
       "    </tr>\n",
       "    <tr>\n",
       "      <th>1</th>\n",
       "      <td>Which TV Female Friend Group Do You Belong In</td>\n",
       "    </tr>\n",
       "    <tr>\n",
       "      <th>2</th>\n",
       "      <td>The New \"Star Wars: The Force Awakens\" Trailer...</td>\n",
       "    </tr>\n",
       "    <tr>\n",
       "      <th>3</th>\n",
       "      <td>This Vine Of New York On \"Celebrity Big Brothe...</td>\n",
       "    </tr>\n",
       "    <tr>\n",
       "      <th>4</th>\n",
       "      <td>A Couple Did A Stunning Photo Shoot With Their...</td>\n",
       "    </tr>\n",
       "  </tbody>\n",
       "</table>\n",
       "</div>"
      ],
      "text/plain": [
       "                                            headline\n",
       "0                                 Should I Get Bings\n",
       "1      Which TV Female Friend Group Do You Belong In\n",
       "2  The New \"Star Wars: The Force Awakens\" Trailer...\n",
       "3  This Vine Of New York On \"Celebrity Big Brothe...\n",
       "4  A Couple Did A Stunning Photo Shoot With Their..."
      ]
     },
     "execution_count": 4,
     "metadata": {},
     "output_type": "execute_result"
    }
   ],
   "source": [
    "# load positive or clickbait dataset into dataframe\n",
    "# no column present for class label\n",
    "df_1 = pd.read_csv('../data/clickbait_data', on_bad_lines='skip', header=None)\n",
    "\n",
    "# set column title\n",
    "df_1.columns = ['headline']\n",
    "\n",
    "# shape of dataset: (rows, columns)\n",
    "print(df_1.shape)\n",
    "\n",
    "# first 5 datapoints\n",
    "df_1.head()"
   ]
  },
  {
   "cell_type": "code",
   "execution_count": 5,
   "id": "39c0c39f",
   "metadata": {},
   "outputs": [
    {
     "data": {
      "text/html": [
       "<div>\n",
       "<style scoped>\n",
       "    .dataframe tbody tr th:only-of-type {\n",
       "        vertical-align: middle;\n",
       "    }\n",
       "\n",
       "    .dataframe tbody tr th {\n",
       "        vertical-align: top;\n",
       "    }\n",
       "\n",
       "    .dataframe thead th {\n",
       "        text-align: right;\n",
       "    }\n",
       "</style>\n",
       "<table border=\"1\" class=\"dataframe\">\n",
       "  <thead>\n",
       "    <tr style=\"text-align: right;\">\n",
       "      <th></th>\n",
       "      <th>headline</th>\n",
       "      <th>clickbait</th>\n",
       "    </tr>\n",
       "  </thead>\n",
       "  <tbody>\n",
       "    <tr>\n",
       "      <th>0</th>\n",
       "      <td>Should I Get Bings</td>\n",
       "      <td>1</td>\n",
       "    </tr>\n",
       "    <tr>\n",
       "      <th>1</th>\n",
       "      <td>Which TV Female Friend Group Do You Belong In</td>\n",
       "      <td>1</td>\n",
       "    </tr>\n",
       "    <tr>\n",
       "      <th>2</th>\n",
       "      <td>The New \"Star Wars: The Force Awakens\" Trailer...</td>\n",
       "      <td>1</td>\n",
       "    </tr>\n",
       "    <tr>\n",
       "      <th>3</th>\n",
       "      <td>This Vine Of New York On \"Celebrity Big Brothe...</td>\n",
       "      <td>1</td>\n",
       "    </tr>\n",
       "    <tr>\n",
       "      <th>4</th>\n",
       "      <td>A Couple Did A Stunning Photo Shoot With Their...</td>\n",
       "      <td>1</td>\n",
       "    </tr>\n",
       "  </tbody>\n",
       "</table>\n",
       "</div>"
      ],
      "text/plain": [
       "                                            headline  clickbait\n",
       "0                                 Should I Get Bings          1\n",
       "1      Which TV Female Friend Group Do You Belong In          1\n",
       "2  The New \"Star Wars: The Force Awakens\" Trailer...          1\n",
       "3  This Vine Of New York On \"Celebrity Big Brothe...          1\n",
       "4  A Couple Did A Stunning Photo Shoot With Their...          1"
      ]
     },
     "execution_count": 5,
     "metadata": {},
     "output_type": "execute_result"
    }
   ],
   "source": [
    "# add column for class label: not clickbait -> 0\n",
    "df_1['clickbait'] = pd.Series(np.ones(df_1.shape[0], dtype=int))\n",
    "\n",
    "# first 5 datapoints with label\n",
    "df_1.head()"
   ]
  },
  {
   "cell_type": "code",
   "execution_count": 6,
   "id": "73e6418f",
   "metadata": {},
   "outputs": [
    {
     "name": "stdout",
     "output_type": "stream",
     "text": [
      "(28210, 2)\n"
     ]
    },
    {
     "data": {
      "text/html": [
       "<div>\n",
       "<style scoped>\n",
       "    .dataframe tbody tr th:only-of-type {\n",
       "        vertical-align: middle;\n",
       "    }\n",
       "\n",
       "    .dataframe tbody tr th {\n",
       "        vertical-align: top;\n",
       "    }\n",
       "\n",
       "    .dataframe thead th {\n",
       "        text-align: right;\n",
       "    }\n",
       "</style>\n",
       "<table border=\"1\" class=\"dataframe\">\n",
       "  <thead>\n",
       "    <tr style=\"text-align: right;\">\n",
       "      <th></th>\n",
       "      <th>headline</th>\n",
       "      <th>clickbait</th>\n",
       "    </tr>\n",
       "  </thead>\n",
       "  <tbody>\n",
       "    <tr>\n",
       "      <th>0</th>\n",
       "      <td>14 People Who You Totally Have Saved In Your P...</td>\n",
       "      <td>1</td>\n",
       "    </tr>\n",
       "    <tr>\n",
       "      <th>1</th>\n",
       "      <td>Episcopal Vote Reopens a Door to Gay Bishops</td>\n",
       "      <td>0</td>\n",
       "    </tr>\n",
       "    <tr>\n",
       "      <th>2</th>\n",
       "      <td>Main UN compound in Gaza shelled with 'white p...</td>\n",
       "      <td>0</td>\n",
       "    </tr>\n",
       "    <tr>\n",
       "      <th>3</th>\n",
       "      <td>Are You More Like Julianne Or Derek Hough</td>\n",
       "      <td>1</td>\n",
       "    </tr>\n",
       "    <tr>\n",
       "      <th>4</th>\n",
       "      <td>50 dead after ferry in Myanmar capsizes</td>\n",
       "      <td>0</td>\n",
       "    </tr>\n",
       "  </tbody>\n",
       "</table>\n",
       "</div>"
      ],
      "text/plain": [
       "                                            headline  clickbait\n",
       "0  14 People Who You Totally Have Saved In Your P...          1\n",
       "1       Episcopal Vote Reopens a Door to Gay Bishops          0\n",
       "2  Main UN compound in Gaza shelled with 'white p...          0\n",
       "3          Are You More Like Julianne Or Derek Hough          1\n",
       "4            50 dead after ferry in Myanmar capsizes          0"
      ]
     },
     "execution_count": 6,
     "metadata": {},
     "output_type": "execute_result"
    }
   ],
   "source": [
    "# concat both positve and negative dataframes\n",
    "# shuffle dataframe randomly\n",
    "df = pd.concat([df_0, df_1]).sample(frac=1, random_state=42).reset_index(drop=True)\n",
    "\n",
    "# shape: (rows, columns)\n",
    "print(df.shape)\n",
    "\n",
    "# first 5 datapoints\n",
    "df.head()"
   ]
  },
  {
   "cell_type": "code",
   "execution_count": 7,
   "id": "1919bb02",
   "metadata": {},
   "outputs": [],
   "source": [
    "# save the entire dataset\n",
    "# df.to_csv('../data/data.csv')"
   ]
  },
  {
   "cell_type": "code",
   "execution_count": 37,
   "id": "c3f31b51",
   "metadata": {},
   "outputs": [
    {
     "name": "stdout",
     "output_type": "stream",
     "text": [
      "1    15303\n",
      "0    12907\n",
      "Name: clickbait, dtype: int64\n",
      "\n",
      "null counts\n",
      "headline     0\n",
      "clickbait    0\n",
      "dtype: int64\n",
      "\n",
      "duplicate counts: 0\n"
     ]
    },
    {
     "data": {
      "image/png": "[encoded data removed]",
      "text/plain": [
       "<Figure size 660x440 with 1 Axes>"
      ]
     },
     "metadata": {},
     "output_type": "display_data"
    }
   ],
   "source": [
    "# class distribution\n",
    "print(df['clickbait'].value_counts())\n",
    "\n",
    "# check null value counts\n",
    "print('\\nnull counts')\n",
    "print(df.isnull().sum())\n",
    "\n",
    "\n",
    "# check duplicate datapoint counts\n",
    "print('\\nduplicate counts:',df.headline.duplicated().sum())\n",
    "\n",
    "# plot the class distribution\n",
    "plt.figure(dpi=110)\n",
    "chart = sns.countplot(\n",
    "    x=\"clickbait\",\n",
    "    data=pd.DataFrame({\n",
    "        'headline': df.headline.values,\n",
    "        'clickbait': ['Yes' if x==1 else 'No' for x in df.clickbait.values]\n",
    "        },\n",
    "        columns=['headline', 'clickbait']\n",
    "    ),\n",
    "    palette=\"Set2\")\n",
    "axes = chart.axes\n",
    "axes.set_title('Class Distribution')\n",
    "axes.set_xlabel('is Clickbait?')\n",
    "plt.show()"
   ]
  },
  {
   "cell_type": "code",
   "execution_count": 42,
   "id": "b30a0a4d",
   "metadata": {},
   "outputs": [
    {
     "name": "stdout",
     "output_type": "stream",
     "text": [
      "train: 16926\n",
      "valid: 5642\n",
      "test: 5642\n"
     ]
    }
   ],
   "source": [
    "# split into train-validation-test sets (60-20-20)\n",
    "# perform a random split\n",
    "\n",
    "# train-test split (80-20)\n",
    "df_train, df_test = train_test_split(df, test_size=0.2, random_state=42)\n",
    "\n",
    "# train-validation split (80-20)\n",
    "# 0.8 * 0.25 = 0.2\n",
    "df_train, df_valid = train_test_split(df_train, test_size=0.25, random_state=42)\n",
    "\n",
    "# rest index\n",
    "df_train.reset_index()\n",
    "df_valid.reset_index()\n",
    "df_test.reset_index()\n",
    "\n",
    "# size of train-validation-test sets\n",
    "print('train:',df_train.shape[0])\n",
    "print('valid:',df_valid.shape[0])\n",
    "print('test:',df_test.shape[0])\n",
    "\n",
    "# save validation set\n",
    "# df_valid.to_csv('../data/valid_data.csv')\n",
    "\n",
    "# save test set\n",
    "# df_test.to_csv('../data/test_data.csv')\n",
    "\n",
    "# save train set\n",
    "df_train.to_csv('../data/train_data.csv')"
   ]
  }
 ],
 "metadata": {
  "kernelspec": {
   "display_name": "Python 3 (ipykernel)",
   "language": "python",
   "name": "python3"
  },
  "language_info": {
   "codemirror_mode": {
    "name": "ipython",
    "version": 3
   },
   "file_extension": ".py",
   "mimetype": "text/x-python",
   "name": "python",
   "nbconvert_exporter": "python",
   "pygments_lexer": "ipython3",
   "version": "3.10.4"
  }
 },
 "nbformat": 4,
 "nbformat_minor": 5
}
